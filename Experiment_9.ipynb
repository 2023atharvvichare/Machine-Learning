{
  "nbformat": 4,
  "nbformat_minor": 0,
  "metadata": {
    "colab": {
      "provenance": [],
      "authorship_tag": "ABX9TyO9jzKB4DXly3XCvWkTdXrr",
      "include_colab_link": true
    },
    "kernelspec": {
      "name": "python3",
      "display_name": "Python 3"
    },
    "language_info": {
      "name": "python"
    }
  },
  "cells": [
    {
      "cell_type": "markdown",
      "metadata": {
        "id": "view-in-github",
        "colab_type": "text"
      },
      "source": [
        "<a href=\"https://colab.research.google.com/github/2023atharvvichare/Machine-Learning/blob/main/Experiment_9.ipynb\" target=\"_parent\"><img src=\"https://colab.research.google.com/assets/colab-badge.svg\" alt=\"Open In Colab\"/></a>"
      ]
    },
    {
      "cell_type": "code",
      "source": [
        "import numpy as np\n",
        "from sklearn.metrics import accuracy_score"
      ],
      "metadata": {
        "id": "rWwLgZUfR4Pj"
      },
      "execution_count": null,
      "outputs": []
    },
    {
      "cell_type": "code",
      "source": [
        "class MPNeuron:\n",
        "    def __init__(self, n_inputs, lr=0.1, threshold=0.5):\n",
        "        self.weights = np.zeros(n_inputs)\n",
        "        self.bias = 0.0\n",
        "        self.lr = lr\n",
        "        self.threshold = threshold\n",
        "\n",
        "    def activation(self, x):\n",
        "        return np.where(x >= self.threshold, 1, 0)\n",
        "\n",
        "    def predict(self, X):\n",
        "        net_input = np.dot(X, self.weights) + self.bias\n",
        "        return self.activation(net_input)\n",
        "\n",
        "    def train(self, X, y, epochs=10):\n",
        "        print(f\"\\nTraining with threshold = {self.threshold}\\n\")\n",
        "        for epoch in range(epochs):\n",
        "            net_input = np.dot(X, self.weights) + self.bias\n",
        "            y_pred = self.activation(net_input)\n",
        "\n",
        "            error = y - y_pred\n",
        "\n",
        "            self.weights += self.lr * np.dot(X.T, error)\n",
        "            self.bias += self.lr * np.sum(error)\n",
        "\n",
        "            print(f\"Epoch {epoch+1}/{epochs} | Weights: {self.weights} | Bias: {self.bias}\")"
      ],
      "metadata": {
        "id": "tNOWMZvDRyTC"
      },
      "execution_count": null,
      "outputs": []
    },
    {
      "cell_type": "code",
      "source": [
        "X = np.array([[0,0],[0,1],[1,0],[1,1]])\n",
        "y_and = np.array([0,0,0,1])\n",
        "\n",
        "and_neuron = MPNeuron(n_inputs=2, lr=0.2, threshold=0.5)\n",
        "and_neuron.train(X, y_and, epochs=10)\n",
        "y_true = and_neuron.predict(X)\n",
        "print(\"\\nFinal Predictions:\",y_true , \"\\n\")\n",
        "print(accuracy_score(y_true, y_and))"
      ],
      "metadata": {
        "colab": {
          "base_uri": "https://localhost:8080/"
        },
        "id": "o0IFUwJPSB5R",
        "outputId": "3d7d5ab3-b843-42bd-db99-8af0e9a367df"
      },
      "execution_count": null,
      "outputs": [
        {
          "output_type": "stream",
          "name": "stdout",
          "text": [
            "\n",
            "Training with threshold = 0.5\n",
            "\n",
            "Epoch 1/10 | Weights: [0.2 0.2] | Bias: 0.2\n",
            "Epoch 2/10 | Weights: [0.2 0.2] | Bias: 0.2\n",
            "Epoch 3/10 | Weights: [0.2 0.2] | Bias: 0.2\n",
            "Epoch 4/10 | Weights: [0.2 0.2] | Bias: 0.2\n",
            "Epoch 5/10 | Weights: [0.2 0.2] | Bias: 0.2\n",
            "Epoch 6/10 | Weights: [0.2 0.2] | Bias: 0.2\n",
            "Epoch 7/10 | Weights: [0.2 0.2] | Bias: 0.2\n",
            "Epoch 8/10 | Weights: [0.2 0.2] | Bias: 0.2\n",
            "Epoch 9/10 | Weights: [0.2 0.2] | Bias: 0.2\n",
            "Epoch 10/10 | Weights: [0.2 0.2] | Bias: 0.2\n",
            "\n",
            "Final Predictions: [0 0 0 1] \n",
            "\n",
            "1.0\n"
          ]
        }
      ]
    },
    {
      "cell_type": "code",
      "source": [
        "\n",
        "y_or = np.array([0,1,1,1])\n",
        "or_neuron = MPNeuron(n_inputs=2, lr=0.2, threshold=0.5)\n",
        "or_neuron.train(X, y_or, epochs=10)\n",
        "y_true = or_neuron.predict(X)\n",
        "print(\"\\nFinal Predictions:\",y_true , \"\\n\")\n",
        "print(accuracy_score(y_true, y_or))\n"
      ],
      "metadata": {
        "colab": {
          "base_uri": "https://localhost:8080/"
        },
        "id": "SWHepo0wSF4K",
        "outputId": "7eec1d02-9b77-4f8b-a7ba-2d05de1f114d"
      },
      "execution_count": null,
      "outputs": [
        {
          "output_type": "stream",
          "name": "stdout",
          "text": [
            "\n",
            "Training with threshold = 0.5\n",
            "\n",
            "Epoch 1/10 | Weights: [0.4 0.4] | Bias: 0.6000000000000001\n",
            "Epoch 2/10 | Weights: [0.4 0.4] | Bias: 0.4000000000000001\n",
            "Epoch 3/10 | Weights: [0.4 0.4] | Bias: 0.4000000000000001\n",
            "Epoch 4/10 | Weights: [0.4 0.4] | Bias: 0.4000000000000001\n",
            "Epoch 5/10 | Weights: [0.4 0.4] | Bias: 0.4000000000000001\n",
            "Epoch 6/10 | Weights: [0.4 0.4] | Bias: 0.4000000000000001\n",
            "Epoch 7/10 | Weights: [0.4 0.4] | Bias: 0.4000000000000001\n",
            "Epoch 8/10 | Weights: [0.4 0.4] | Bias: 0.4000000000000001\n",
            "Epoch 9/10 | Weights: [0.4 0.4] | Bias: 0.4000000000000001\n",
            "Epoch 10/10 | Weights: [0.4 0.4] | Bias: 0.4000000000000001\n",
            "\n",
            "Final Predictions: [0 1 1 1] \n",
            "\n",
            "1.0\n"
          ]
        }
      ]
    },
    {
      "cell_type": "code",
      "source": [
        "\n",
        "X_not = np.array([[0],[1]])\n",
        "y_not = np.array([1,0])\n",
        "not_neuron = MPNeuron(n_inputs=1, lr=0.2, threshold=0.5)\n",
        "not_neuron.train(X_not, y_not, epochs=10)\n",
        "y_true = not_neuron.predict(X_not)\n",
        "print(\"\\nFinal Predictions:\",y_true , \"\\n\")\n",
        "print(accuracy_score(y_true, y_not))"
      ],
      "metadata": {
        "colab": {
          "base_uri": "https://localhost:8080/"
        },
        "id": "CI8D52TJSPDI",
        "outputId": "3b4cd246-101c-4c36-deec-01eddc64d17e"
      },
      "execution_count": null,
      "outputs": [
        {
          "output_type": "stream",
          "name": "stdout",
          "text": [
            "\n",
            "Training with threshold = 0.5\n",
            "\n",
            "Epoch 1/10 | Weights: [0.] | Bias: 0.2\n",
            "Epoch 2/10 | Weights: [0.] | Bias: 0.4\n",
            "Epoch 3/10 | Weights: [0.] | Bias: 0.6000000000000001\n",
            "Epoch 4/10 | Weights: [-0.2] | Bias: 0.4000000000000001\n",
            "Epoch 5/10 | Weights: [-0.2] | Bias: 0.6000000000000001\n",
            "Epoch 6/10 | Weights: [-0.2] | Bias: 0.6000000000000001\n",
            "Epoch 7/10 | Weights: [-0.2] | Bias: 0.6000000000000001\n",
            "Epoch 8/10 | Weights: [-0.2] | Bias: 0.6000000000000001\n",
            "Epoch 9/10 | Weights: [-0.2] | Bias: 0.6000000000000001\n",
            "Epoch 10/10 | Weights: [-0.2] | Bias: 0.6000000000000001\n",
            "\n",
            "Final Predictions: [1 0] \n",
            "\n",
            "1.0\n"
          ]
        }
      ]
    },
    {
      "cell_type": "code",
      "source": [],
      "metadata": {
        "id": "j28yaSIlTU4w"
      },
      "execution_count": null,
      "outputs": []
    }
  ]
}